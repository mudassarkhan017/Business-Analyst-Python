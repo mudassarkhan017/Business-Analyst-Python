{
  "nbformat": 4,
  "nbformat_minor": 0,
  "metadata": {
    "kernelspec": {
      "display_name": "Python 3",
      "language": "python",
      "name": "python3"
    },
    "language_info": {
      "codemirror_mode": {
        "name": "ipython",
        "version": 3
      },
      "file_extension": ".py",
      "mimetype": "text/x-python",
      "name": "python",
      "nbconvert_exporter": "python",
      "pygments_lexer": "ipython3",
      "version": "3.7.3"
    },
    "colab": {
      "name": "Copy of Assignment #2.ipynb",
      "provenance": [],
      "collapsed_sections": []
    }
  },
  "cells": [
    {
      "cell_type": "code",
      "metadata": {
        "id": "46BeC5WjA_bQ"
      },
      "source": [
        "# employee data with key as id of the employee and values as age of the employee\n",
        "Employee_data ={101: 43, 102: 25, 103: 43, 104: 31, 105: 26, 106: 28, 107: 29, 108: 43, 109: 25, 110: 22, 111: 22, 112: 25, 113: 30, 115: 45, 116: 23, 117: 29, 118: 28, 119: 30, 120: 28, 121: 42, 122: 39, 123: 29, 124: 42, 125: 43, 126: 42, 127: 40, 128: 27, 129: 23, 130: 30, 131: 37, 132: 20, 133: 36, 134: 27, 135: 27, 136: 22, 137: 28, 138: 23, 139: 45, 140: 39, 141: 29, 142: 33, 143: 39, 145: 34, 146: 26, 147: 30, 148: 38, 149: 29, 150: 24, 151: 28, 152: 34, 153: 42, 154: 29, 155: 23, 156: 31, 158: 25, 160: 45, 161: 42, 162: 27, 163: 24, 164: 20, 166: 24, 167: 28, 168: 20, 169: 33, 170: 34, 171: 37, 172: 45, 173: 35, 174: 23, 175: 44, 176: 27, 177: 30, 178: 26, 179: 27} "
      ],
      "execution_count": 1,
      "outputs": []
    },
    {
      "cell_type": "markdown",
      "metadata": {
        "id": "Zvo-YVeiA_bS"
      },
      "source": [
        "#### Identify the senior most employees age\n",
        "\n",
        "- 45\n",
        "- 44\n",
        "- 48\n",
        "- 42"
      ]
    },
    {
      "cell_type": "code",
      "metadata": {
        "id": "aABGAa-EA_bT",
        "colab": {
          "base_uri": "https://localhost:8080/"
        },
        "outputId": "56b16f03-6d82-439d-af49-d704da5670e8"
      },
      "source": [
        "#Variable declaration for storing Senior most emp age\n",
        "sn_emp=0\n",
        "\n",
        "for i in Employee_data.values():    \n",
        "    if sn_emp < i:\n",
        "        sn_emp=i\n",
        "        \n",
        "        \n",
        "print(\"The Senior most Employee Age :\",sn_emp)"
      ],
      "execution_count": 2,
      "outputs": [
        {
          "output_type": "stream",
          "text": [
            "The Senior most Employee Age : 45\n"
          ],
          "name": "stdout"
        }
      ]
    },
    {
      "cell_type": "markdown",
      "metadata": {
        "id": "URXoR1ZdA_bT"
      },
      "source": [
        "#### Identify the age of the employee with employee id 159 [ If the employee isn't present return NA]\n",
        "\n",
        "- 25\n",
        "- 32\n",
        "- NA\n",
        "- 42"
      ]
    },
    {
      "cell_type": "code",
      "metadata": {
        "id": "327yZL0xA_bT",
        "colab": {
          "base_uri": "https://localhost:8080/"
        },
        "outputId": "234c5f20-2217-4f40-f62d-f15b2329c8f1"
      },
      "source": [
        "#Function to find if the ID is present in the dict.\n",
        "def find_age():\n",
        "    for id in Employee_data.keys():\n",
        "        if id == 159:\n",
        "            return Employee_data[id]       #Returing the value of the Key\n",
        "    \n",
        "    return False          #returning False if value not present \n",
        "\n",
        "\n",
        "#Condition if Id is found or not \n",
        "if find_age() == False:\n",
        "    print(\"NA\")    \n",
        "else:\n",
        "    print(find_age())"
      ],
      "execution_count": 3,
      "outputs": [
        {
          "output_type": "stream",
          "text": [
            "NA\n"
          ],
          "name": "stdout"
        }
      ]
    },
    {
      "cell_type": "markdown",
      "metadata": {
        "id": "St98V-1zA_bT"
      },
      "source": [
        "#### Count the total number of employee in the organization\n",
        "\n",
        "- 79\n",
        "- 78\n",
        "- 60\n",
        "- 74"
      ]
    },
    {
      "cell_type": "code",
      "metadata": {
        "id": "gDyKXmBUA_bT",
        "colab": {
          "base_uri": "https://localhost:8080/"
        },
        "outputId": "6dab2af4-f4b0-4225-81eb-9f34db0b14fa"
      },
      "source": [
        "#Count the total number of employee in the Org\n",
        "print(\"The Total number of employee in the Organization :\",len(Employee_data))"
      ],
      "execution_count": 4,
      "outputs": [
        {
          "output_type": "stream",
          "text": [
            "The Total number of employee in the Organization : 74\n"
          ],
          "name": "stdout"
        }
      ]
    },
    {
      "cell_type": "markdown",
      "metadata": {
        "id": "fji1UiEkA_bU"
      },
      "source": [
        "#### Calculate the mean age of the employees\n",
        "\n",
        "- 31.36\n",
        "- 36.48\n",
        "- 28.77\n",
        "- 32.47"
      ]
    },
    {
      "cell_type": "code",
      "metadata": {
        "id": "vnfj_nf7A_bU",
        "colab": {
          "base_uri": "https://localhost:8080/"
        },
        "outputId": "df984c0e-1adb-4308-d71a-6f2ec381411f"
      },
      "source": [
        "sum =0\n",
        "\n",
        "#Loop to calculate the sum of the age of all the employees\n",
        "for i in Employee_data.values():\n",
        "    sum+=i\n",
        "    \n",
        "#Mean = sum of age / total number of employees\n",
        "print(\"The Mean Age of the Employees : \",sum/len(Employee_data))\n"
      ],
      "execution_count": 5,
      "outputs": [
        {
          "output_type": "stream",
          "text": [
            "The Mean Age of the Employees :  31.364864864864863\n"
          ],
          "name": "stdout"
        }
      ]
    },
    {
      "cell_type": "markdown",
      "metadata": {
        "id": "LZuj4zFVA_bU"
      },
      "source": [
        "#### Perform the following two tasks and then calculate the updated mean age of the employees\n",
        "Task1 Update the ages of employee id - 104,140, and 164 as 27 <br>\n",
        "Task2 Remove the employ with employee id - 143 <br>\n",
        "\n",
        "- 30.71\n",
        "- 31.36\n",
        "- 30.13\n",
        "- 31.13\n"
      ]
    },
    {
      "cell_type": "code",
      "metadata": {
        "id": "cg_D3bJpA_bV",
        "colab": {
          "base_uri": "https://localhost:8080/"
        },
        "outputId": "d11043e3-8fd4-49d4-8997-04aea412b908"
      },
      "source": [
        "for i in Employee_data.keys():\n",
        "    #Task 1 : Update the ages of employee id - 104,140, and 164 as 27\n",
        "    if i == 104:\n",
        "        Employee_data[i]=140\n",
        "    elif i == 164:\n",
        "        Employee_data[i]=27\n",
        "        \n",
        "    #Task 2 :Remove the employ with employee id - 143\n",
        "    elif i == 143:\n",
        "        del Employee_data[143]\n",
        "\n",
        "print(\"Updated Employee 104 age :\",Employee_data[104])\n",
        "print(\"Updated Employee 164 age :\",Employee_data[164])\n",
        "\n",
        "sum=0\n",
        "#Loop to calculate the sum of the age of all the employees\n",
        "for i in Employee_data.values():\n",
        "    sum+=i\n",
        "    \n",
        "#Mean = sum of age / total number of employees\n",
        "print(\"The Mean Age of the Employees : \",sum/len(Employee_data))"
      ],
      "execution_count": 7,
      "outputs": [
        {
          "output_type": "stream",
          "text": [
            "Updated Employee 104 age : 140\n",
            "Updated Employee 164 age : 27\n",
            "The Mean Age of the Employees :  32.84931506849315\n"
          ],
          "name": "stdout"
        }
      ]
    },
    {
      "cell_type": "code",
      "metadata": {
        "id": "LuAjb6m8FEW5"
      },
      "source": [
        ""
      ],
      "execution_count": null,
      "outputs": []
    }
  ]
}